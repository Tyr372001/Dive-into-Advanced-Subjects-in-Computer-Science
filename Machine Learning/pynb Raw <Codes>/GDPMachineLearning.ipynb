{
 "cells": [
  {
   "cell_type": "code",
   "execution_count": 35,
   "id": "0102e401",
   "metadata": {},
   "outputs": [
    {
     "name": "stdout",
     "output_type": "stream",
     "text": [
      "Enter the the year you want to predict gpd2003\n",
      "GDP of the year 2003 is : \n",
      "[27204.78781563]\n"
     ]
    },
    {
     "name": "stderr",
     "output_type": "stream",
     "text": [
      "E:\\Python\\lib\\site-packages\\sklearn\\base.py:450: UserWarning: X does not have valid feature names, but LinearRegression was fitted with feature names\n",
      "  warnings.warn(\n"
     ]
    }
   ],
   "source": [
    "import pandas as pd\n",
    "from sklearn import linear_model\n",
    "\n",
    "gdp_data = pd.read_csv('DataSets//gdpData.csv')\n",
    "X = gdp_data.drop(columns=['per capita income (US$)'])\n",
    "y = gdp_data['per capita income (US$)']\n",
    "\n",
    "model = linear_model.LinearRegression()\n",
    "model.fit(X,y)\n",
    "user = input('Enter the the year you want to presict gpd')\n",
    "prediction = model.predict([[int(user)]])\n",
    "print('GDP of the year '+ user+ ' is : ')\n",
    "print(prediction)"
   ]
  },
  {
   "cell_type": "code",
   "execution_count": null,
   "id": "820afcb1",
   "metadata": {},
   "outputs": [],
   "source": [
    "import pickle\n",
    "filename = 'Trained_GDP_model.sav'\n",
    "pickle.dump(model,open(filename,'wb'))"
   ]
  },
  {
   "cell_type": "code",
   "execution_count": null,
   "id": "b5f2bb2a",
   "metadata": {},
   "outputs": [],
   "source": []
  }
 ],
 "metadata": {
  "kernelspec": {
   "display_name": "Python 3 (ipykernel)",
   "language": "python",
   "name": "python3"
  },
  "language_info": {
   "codemirror_mode": {
    "name": "ipython",
    "version": 3
   },
   "file_extension": ".py",
   "mimetype": "text/x-python",
   "name": "python",
   "nbconvert_exporter": "python",
   "pygments_lexer": "ipython3",
   "version": "3.10.5"
  }
 },
 "nbformat": 4,
 "nbformat_minor": 5
}
