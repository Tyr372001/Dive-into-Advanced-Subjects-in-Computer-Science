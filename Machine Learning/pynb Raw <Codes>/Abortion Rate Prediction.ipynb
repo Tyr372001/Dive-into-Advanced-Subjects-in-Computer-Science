{
 "cells": [
  {
   "cell_type": "code",
   "execution_count": 1,
   "id": "0b100870",
   "metadata": {},
   "outputs": [],
   "source": [
    "# reading datasets using pandas\n",
    "\n",
    "import pandas as pd \n",
    "abortion_data = pd.read_csv('DataSets//2019_abortion_rates.csv')"
   ]
  },
  {
   "cell_type": "code",
   "execution_count": 2,
   "id": "2508b92d",
   "metadata": {},
   "outputs": [
    {
     "name": "stdout",
     "output_type": "stream",
     "text": [
      "   Period  Age_of_woman  Induced_abortions\n",
      "0    2000            11                 74\n",
      "1    2000            14                 74\n",
      "2    2000            15               3107\n",
      "3    2000            19               3107\n",
      "4    2000            20               4548\n",
      "     Period  Age_of_woman  Induced_abortions\n",
      "176    2019            25               3374\n",
      "177    2019            30               2667\n",
      "178    2019            35               1707\n",
      "179    2019            40                634\n",
      "180    2019            45                 70\n"
     ]
    }
   ],
   "source": [
    "# visualising the data\n",
    "\n",
    "print(abortion_data.head())\n",
    "print(abortion_data.tail())"
   ]
  },
  {
   "cell_type": "code",
   "execution_count": 3,
   "id": "db60e3f7",
   "metadata": {},
   "outputs": [
    {
     "name": "stdout",
     "output_type": "stream",
     "text": [
      "False\n"
     ]
    }
   ],
   "source": [
    "#check NaN or NULL values\n",
    "\n",
    "print(abortion_data.isnull().values.any())\n"
   ]
  },
  {
   "cell_type": "code",
   "execution_count": 4,
   "id": "b532c071",
   "metadata": {},
   "outputs": [
    {
     "name": "stdout",
     "output_type": "stream",
     "text": [
      "Period               int64\n",
      "Age_of_woman         int64\n",
      "Induced_abortions    int64\n",
      "dtype: object\n"
     ]
    }
   ],
   "source": [
    "# checking for unwanted Data Types in the columns\n",
    "\n",
    "dataTypeseries = abortion_data.dtypes\n",
    "print(dataTypeseries)"
   ]
  },
  {
   "cell_type": "code",
   "execution_count": 5,
   "id": "d3aefe6d",
   "metadata": {},
   "outputs": [
    {
     "name": "stdout",
     "output_type": "stream",
     "text": [
      "     Period  Age_of_woman\n",
      "0      2000            11\n",
      "1      2000            14\n",
      "2      2000            15\n",
      "3      2000            19\n",
      "4      2000            20\n",
      "..      ...           ...\n",
      "176    2019            25\n",
      "177    2019            30\n",
      "178    2019            35\n",
      "179    2019            40\n",
      "180    2019            45\n",
      "\n",
      "[181 rows x 2 columns]\n",
      "     Induced_abortions\n",
      "0                   74\n",
      "1                   74\n",
      "2                 3107\n",
      "3                 3107\n",
      "4                 4548\n",
      "..                 ...\n",
      "176               3374\n",
      "177               2667\n",
      "178               1707\n",
      "179                634\n",
      "180                 70\n",
      "\n",
      "[181 rows x 1 columns]\n"
     ]
    }
   ],
   "source": [
    "# preparing the data\n",
    "\n",
    "X = abortion_data.drop(columns = ['Induced_abortions'])\n",
    "y = abortion_data[['Induced_abortions']]\n",
    "print(X)\n",
    "print(y)"
   ]
  },
  {
   "cell_type": "code",
   "execution_count": 6,
   "id": "1f860838",
   "metadata": {},
   "outputs": [],
   "source": [
    "# splitting the data into training sets and testing sets\n",
    "\n",
    "from sklearn.model_selection import train_test_split\n",
    "\n",
    "X_train, X_test, y_train, y_test = train_test_split(X,y,test_size = 0.2)\n"
   ]
  },
  {
   "cell_type": "code",
   "execution_count": 7,
   "id": "29dec683",
   "metadata": {},
   "outputs": [],
   "source": [
    "# building a model to predict the outcome\n",
    "\n",
    "from sklearn import linear_model\n",
    "\n",
    "model = linear_model.LinearRegression()"
   ]
  },
  {
   "cell_type": "code",
   "execution_count": 8,
   "id": "877542de",
   "metadata": {},
   "outputs": [
    {
     "data": {
      "text/html": [
       "<style>#sk-container-id-1 {color: black;background-color: white;}#sk-container-id-1 pre{padding: 0;}#sk-container-id-1 div.sk-toggleable {background-color: white;}#sk-container-id-1 label.sk-toggleable__label {cursor: pointer;display: block;width: 100%;margin-bottom: 0;padding: 0.3em;box-sizing: border-box;text-align: center;}#sk-container-id-1 label.sk-toggleable__label-arrow:before {content: \"▸\";float: left;margin-right: 0.25em;color: #696969;}#sk-container-id-1 label.sk-toggleable__label-arrow:hover:before {color: black;}#sk-container-id-1 div.sk-estimator:hover label.sk-toggleable__label-arrow:before {color: black;}#sk-container-id-1 div.sk-toggleable__content {max-height: 0;max-width: 0;overflow: hidden;text-align: left;background-color: #f0f8ff;}#sk-container-id-1 div.sk-toggleable__content pre {margin: 0.2em;color: black;border-radius: 0.25em;background-color: #f0f8ff;}#sk-container-id-1 input.sk-toggleable__control:checked~div.sk-toggleable__content {max-height: 200px;max-width: 100%;overflow: auto;}#sk-container-id-1 input.sk-toggleable__control:checked~label.sk-toggleable__label-arrow:before {content: \"▾\";}#sk-container-id-1 div.sk-estimator input.sk-toggleable__control:checked~label.sk-toggleable__label {background-color: #d4ebff;}#sk-container-id-1 div.sk-label input.sk-toggleable__control:checked~label.sk-toggleable__label {background-color: #d4ebff;}#sk-container-id-1 input.sk-hidden--visually {border: 0;clip: rect(1px 1px 1px 1px);clip: rect(1px, 1px, 1px, 1px);height: 1px;margin: -1px;overflow: hidden;padding: 0;position: absolute;width: 1px;}#sk-container-id-1 div.sk-estimator {font-family: monospace;background-color: #f0f8ff;border: 1px dotted black;border-radius: 0.25em;box-sizing: border-box;margin-bottom: 0.5em;}#sk-container-id-1 div.sk-estimator:hover {background-color: #d4ebff;}#sk-container-id-1 div.sk-parallel-item::after {content: \"\";width: 100%;border-bottom: 1px solid gray;flex-grow: 1;}#sk-container-id-1 div.sk-label:hover label.sk-toggleable__label {background-color: #d4ebff;}#sk-container-id-1 div.sk-serial::before {content: \"\";position: absolute;border-left: 1px solid gray;box-sizing: border-box;top: 0;bottom: 0;left: 50%;z-index: 0;}#sk-container-id-1 div.sk-serial {display: flex;flex-direction: column;align-items: center;background-color: white;padding-right: 0.2em;padding-left: 0.2em;position: relative;}#sk-container-id-1 div.sk-item {position: relative;z-index: 1;}#sk-container-id-1 div.sk-parallel {display: flex;align-items: stretch;justify-content: center;background-color: white;position: relative;}#sk-container-id-1 div.sk-item::before, #sk-container-id-1 div.sk-parallel-item::before {content: \"\";position: absolute;border-left: 1px solid gray;box-sizing: border-box;top: 0;bottom: 0;left: 50%;z-index: -1;}#sk-container-id-1 div.sk-parallel-item {display: flex;flex-direction: column;z-index: 1;position: relative;background-color: white;}#sk-container-id-1 div.sk-parallel-item:first-child::after {align-self: flex-end;width: 50%;}#sk-container-id-1 div.sk-parallel-item:last-child::after {align-self: flex-start;width: 50%;}#sk-container-id-1 div.sk-parallel-item:only-child::after {width: 0;}#sk-container-id-1 div.sk-dashed-wrapped {border: 1px dashed gray;margin: 0 0.4em 0.5em 0.4em;box-sizing: border-box;padding-bottom: 0.4em;background-color: white;}#sk-container-id-1 div.sk-label label {font-family: monospace;font-weight: bold;display: inline-block;line-height: 1.2em;}#sk-container-id-1 div.sk-label-container {text-align: center;}#sk-container-id-1 div.sk-container {/* jupyter's `normalize.less` sets `[hidden] { display: none; }` but bootstrap.min.css set `[hidden] { display: none !important; }` so we also need the `!important` here to be able to override the default hidden behavior on the sphinx rendered scikit-learn.org. See: https://github.com/scikit-learn/scikit-learn/issues/21755 */display: inline-block !important;position: relative;}#sk-container-id-1 div.sk-text-repr-fallback {display: none;}</style><div id=\"sk-container-id-1\" class=\"sk-top-container\"><div class=\"sk-text-repr-fallback\"><pre>LinearRegression()</pre><b>In a Jupyter environment, please rerun this cell to show the HTML representation or trust the notebook. <br />On GitHub, the HTML representation is unable to render, please try loading this page with nbviewer.org.</b></div><div class=\"sk-container\" hidden><div class=\"sk-item\"><div class=\"sk-estimator sk-toggleable\"><input class=\"sk-toggleable__control sk-hidden--visually\" id=\"sk-estimator-id-1\" type=\"checkbox\" checked><label for=\"sk-estimator-id-1\" class=\"sk-toggleable__label sk-toggleable__label-arrow\">LinearRegression</label><div class=\"sk-toggleable__content\"><pre>LinearRegression()</pre></div></div></div></div></div>"
      ],
      "text/plain": [
       "LinearRegression()"
      ]
     },
     "execution_count": 8,
     "metadata": {},
     "output_type": "execute_result"
    }
   ],
   "source": [
    "# training the model\n",
    "\n",
    "model.fit(X_train,y_train)"
   ]
  },
  {
   "cell_type": "code",
   "execution_count": 9,
   "id": "81373ff8",
   "metadata": {},
   "outputs": [
    {
     "name": "stdout",
     "output_type": "stream",
     "text": [
      "[[2653.67372647]\n",
      " [1459.5962117 ]\n",
      " [1710.72121793]\n",
      " [2479.60076123]\n",
      " [2183.45030075]\n",
      " [1759.74044883]\n",
      " [1283.01758936]\n",
      " [1195.47233797]\n",
      " [2268.48989505]\n",
      " [2185.95595785]\n",
      " [2401.06060069]\n",
      " [1758.25232928]\n",
      " [3032.35812415]\n",
      " [2230.9814121 ]\n",
      " [1668.20142079]\n",
      " [1502.11600885]\n",
      " [2486.10019498]\n",
      " [2868.77836931]\n",
      " [2138.42484651]\n",
      " [1280.51193226]\n",
      " [2564.64035553]\n",
      " [3117.39771845]\n",
      " [2398.55494359]\n",
      " [1802.26024598]\n",
      " [2575.13356593]\n",
      " [2441.07474074]\n",
      " [1713.22687503]\n",
      " [1110.43274367]\n",
      " [1715.73253213]\n",
      " [ 855.31396079]\n",
      " [1408.0713237 ]\n",
      " [2734.71954412]\n",
      " [2947.31852986]\n",
      " [2015.87676926]\n",
      " [1543.14768644]\n",
      " [2228.475755  ]\n",
      " [2741.21897787]]\n"
     ]
    }
   ],
   "source": [
    "# predicting the outcome\n",
    "\n",
    "prediction = model.predict(X_test)\n",
    "print(prediction)"
   ]
  },
  {
   "cell_type": "code",
   "execution_count": 10,
   "id": "53d609c7",
   "metadata": {},
   "outputs": [
    {
     "name": "stdout",
     "output_type": "stream",
     "text": [
      "2970159.539584846\n"
     ]
    }
   ],
   "source": [
    "# measuring the accuracy of the model\n",
    "\n",
    "from sklearn.metrics import mean_squared_error\n",
    "\n",
    "score = mean_squared_error(y_test,prediction)\n",
    "print(score)"
   ]
  }
 ],
 "metadata": {
  "kernelspec": {
   "display_name": "Python (system)",
   "language": "python",
   "name": "python3"
  },
  "language_info": {
   "codemirror_mode": {
    "name": "ipython",
    "version": 3
   },
   "file_extension": ".py",
   "mimetype": "text/x-python",
   "name": "python",
   "nbconvert_exporter": "python",
   "pygments_lexer": "ipython3",
   "version": "3.10.5"
  },
  "vscode": {
   "interpreter": {
    "hash": "e450050b432e843bda3c41bf3272c133bfc370a7003f3e377e27f87a49ce1127"
   }
  }
 },
 "nbformat": 4,
 "nbformat_minor": 5
}
