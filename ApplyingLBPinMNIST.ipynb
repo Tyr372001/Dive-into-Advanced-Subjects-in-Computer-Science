{
  "nbformat": 4,
  "nbformat_minor": 0,
  "metadata": {
    "colab": {
      "provenance": [],
      "gpuType": "T4",
      "authorship_tag": "ABX9TyOw+/PPEq/NxloNmNXyyiW5",
      "include_colab_link": true
    },
    "kernelspec": {
      "name": "python3",
      "display_name": "Python 3"
    },
    "language_info": {
      "name": "python"
    },
    "accelerator": "GPU"
  },
  "cells": [
    {
      "cell_type": "markdown",
      "metadata": {
        "id": "view-in-github",
        "colab_type": "text"
      },
      "source": [
        "<a href=\"https://colab.research.google.com/github/Tyr372001/Dive-into-Advanced-Subjects-in-Computer-Science/blob/main/ApplyingLBPinMNIST.ipynb\" target=\"_parent\"><img src=\"https://colab.research.google.com/assets/colab-badge.svg\" alt=\"Open In Colab\"/></a>"
      ]
    },
    {
      "cell_type": "code",
      "execution_count": 1,
      "metadata": {
        "id": "WTA1h4of2CBo"
      },
      "outputs": [],
      "source": [
        "import tensorflow as tf\n",
        "from skimage.feature import local_binary_pattern\n",
        "import numpy as np\n",
        "import matplotlib.pyplot as plt"
      ]
    },
    {
      "cell_type": "code",
      "source": [
        "#Loading MNIST datasets\n",
        "\n",
        "mnist = tf.keras.datasets.mnist\n",
        "(x_train, y_train), (x_test, y_test) = mnist.load_data()"
      ],
      "metadata": {
        "colab": {
          "base_uri": "https://localhost:8080/"
        },
        "id": "ZPRNnNEd4BVs",
        "outputId": "fbcba4b0-8e3e-4e09-d563-8bee8204f557"
      },
      "execution_count": 2,
      "outputs": [
        {
          "output_type": "stream",
          "name": "stdout",
          "text": [
            "Downloading data from https://storage.googleapis.com/tensorflow/tf-keras-datasets/mnist.npz\n",
            "11490434/11490434 [==============================] - 0s 0us/step\n"
          ]
        }
      ]
    },
    {
      "cell_type": "code",
      "source": [
        "#Normalizing the pixel values of the images\n",
        "\n",
        "x_train, x_test = x_train / 255.0, x_test / 255.0"
      ],
      "metadata": {
        "id": "bVvxCU6g4Nno"
      },
      "execution_count": 3,
      "outputs": []
    },
    {
      "cell_type": "code",
      "source": [
        "#Initializing the LBP parameters\n",
        "\n",
        "radius = 1\n",
        "n_points = 8*radius"
      ],
      "metadata": {
        "id": "NZnlTckE4b6x"
      },
      "execution_count": 4,
      "outputs": []
    },
    {
      "cell_type": "code",
      "source": [
        "#Function to compute LBP for each image\n",
        "\n",
        "def compute_LBP(images):\n",
        "  lbp_images = []\n",
        "  for image in images:\n",
        "    lbp = local_binary_pattern(image, n_points, radius, method='uniform')\n",
        "    lbp_images.append(lbp)\n",
        "  return lbp_images"
      ],
      "metadata": {
        "id": "oF86iQTF4kvY"
      },
      "execution_count": 5,
      "outputs": []
    },
    {
      "cell_type": "code",
      "source": [
        "# Assuming 'lbp_train' contains your LBP images\n",
        "plt.hist(lbp_train[0].ravel(), bins=256, range=(0, 256))\n",
        "plt.xlabel('LBP Values')\n",
        "plt.ylabel('Frequency')\n",
        "plt.title('LBP Histogram')\n",
        "plt.show()"
      ],
      "metadata": {
        "colab": {
          "base_uri": "https://localhost:8080/",
          "height": 472
        },
        "id": "4jMP6MWr42W6",
        "outputId": "8512ea59-6b01-4244-c8c8-23023f5b76a0"
      },
      "execution_count": 8,
      "outputs": [
        {
          "output_type": "display_data",
          "data": {
            "text/plain": [
              "<Figure size 640x480 with 1 Axes>"
            ],
            "image/png": "[encoded data removed]"
          },
          "metadata": {}
        }
      ]
    },
    {
      "cell_type": "code",
      "source": [
        "flattened_lbp_train = [image.ravel() for image in lbp_train]\n",
        "flattened_lbp_test = [image.ravel() for image in lbp_test]"
      ],
      "metadata": {
        "id": "VfpwJRJh5tS-"
      },
      "execution_count": 9,
      "outputs": []
    },
    {
      "cell_type": "code",
      "source": [
        "# Reshape the flattened data to 2D\n",
        "# -1 infers the number of samples based on the original shape\n",
        "reshaped_lbp_train = np.array(flattened_lbp_train).reshape(len(flattened_lbp_train), -1)\n",
        "reshaped_lbp_test = np.array(lbp_test).reshape(len(lbp_test), -1)"
      ],
      "metadata": {
        "id": "v6Cell7O549q"
      },
      "execution_count": 12,
      "outputs": []
    },
    {
      "cell_type": "code",
      "source": [
        "# Import and initialize the logistic regression model\n",
        "from sklearn.linear_model import LogisticRegression\n",
        "model = LogisticRegression(max_iter=1000) # Increase max_iter if needed"
      ],
      "metadata": {
        "id": "15RGJPYr6rt0"
      },
      "execution_count": 13,
      "outputs": []
    },
    {
      "cell_type": "code",
      "source": [
        "# Train the model\n",
        "model.fit(reshaped_lbp_train, y_train)\n",
        "\n",
        "# Predict on the test set\n",
        "y_pred = model.predict(reshaped_lbp_test)"
      ],
      "metadata": {
        "colab": {
          "base_uri": "https://localhost:8080/"
        },
        "id": "BFn9Hlkh7YCY",
        "outputId": "5bccd050-dadd-46d9-bbbe-cf4d6363f0f7"
      },
      "execution_count": 14,
      "outputs": [
        {
          "output_type": "stream",
          "name": "stderr",
          "text": [
            "/usr/local/lib/python3.10/dist-packages/sklearn/linear_model/_logistic.py:458: ConvergenceWarning: lbfgs failed to converge (status=1):\n",
            "STOP: TOTAL NO. of ITERATIONS REACHED LIMIT.\n",
            "\n",
            "Increase the number of iterations (max_iter) or scale the data as shown in:\n",
            "    https://scikit-learn.org/stable/modules/preprocessing.html\n",
            "Please also refer to the documentation for alternative solver options:\n",
            "    https://scikit-learn.org/stable/modules/linear_model.html#logistic-regression\n",
            "  n_iter_i = _check_optimize_result(\n"
          ]
        }
      ]
    },
    {
      "cell_type": "code",
      "source": [
        "from sklearn.metrics import accuracy_score\n",
        "accuracy = accuracy_score(y_test, y_pred)\n",
        "print(\"Accuracy:\", accuracy)"
      ],
      "metadata": {
        "colab": {
          "base_uri": "https://localhost:8080/"
        },
        "id": "dDxf7tNl7fUw",
        "outputId": "c8c904e1-58d4-4f55-a728-853a7ead5dd6"
      },
      "execution_count": 15,
      "outputs": [
        {
          "output_type": "stream",
          "name": "stdout",
          "text": [
            "Accuracy: 0.8901\n"
          ]
        }
      ]
    },
    {
      "cell_type": "code",
      "source": [],
      "metadata": {
        "id": "86SF-yPD-Qvj"
      },
      "execution_count": null,
      "outputs": []
    }
  ]
}